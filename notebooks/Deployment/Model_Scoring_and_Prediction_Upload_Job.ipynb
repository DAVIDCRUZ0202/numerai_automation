{
 "cells": [
  {
   "cell_type": "markdown",
   "metadata": {},
   "source": [
    "## Resources\n",
    "\n",
    "Use this github as a starter to getting the code for numerapi: https://github.com/uuazed/numerapi"
   ]
  },
  {
   "cell_type": "markdown",
   "metadata": {
    "collapsed": true
   },
   "source": [
    "# Model Training"
   ]
  },
  {
   "cell_type": "code",
   "execution_count": 8,
   "metadata": {},
   "outputs": [
    {
     "name": "stderr",
     "output_type": "stream",
     "text": [
      "2022-06-07 15:16:27,984 - __PROJECT_LIB__ - INFO - GET https://api.dataplatform.cloud.ibm.com/v2/projects/37382622-adc4-4b49-9689-55f2f31ece47\n",
      "2022-06-07 15:16:27,984 INFO __PROJECT_LIB__: GET https://api.dataplatform.cloud.ibm.com/v2/projects/37382622-adc4-4b49-9689-55f2f31ece47\n",
      "2022-06-07 15:16:28,082 - __PROJECT_LIB__ - INFO - No spark context provided, skipping setup of Hadoop config.\n",
      "2022-06-07 15:16:28,082 INFO __PROJECT_LIB__: No spark context provided, skipping setup of Hadoop config.\n"
     ]
    }
   ],
   "source": [
    "import os\n",
    "import joblib\n",
    "import pandas as pd\n",
    "import numpy as np\n",
    "import numerapi as nai\n",
    "from zipfile import ZipFile\n",
    "import joblib\n",
    "from xgboost import XGBRegressor\n",
    "import re\n",
    "from sklearn.linear_model import LinearRegression()\n",
    "from sklearn.model_selection import train_test_split\n",
    "napi = nai.NumerAPI(verbosity='info')\n",
    "x = napi.download_current_dataset()\n",
    "# save predictions to project space\n",
    "# @hidden_cell\n",
    "# The project token is an authorization token that is used to access project resources like data sources, connections, and used by platform APIs.\n",
    "from project_lib import Project\n",
    "project = Project(project_id='INSERT_PROJECT_ID_HERE', project_access_token='INSERT_PROJECT_ACCESS_TOKEN_HERE')\n",
    "pc = project.project_context"
   ]
  },
  {
   "cell_type": "code",
   "execution_count": 6,
   "metadata": {},
   "outputs": [
    {
     "name": "stderr",
     "output_type": "stream",
     "text": [
      "2022-06-05 18:59:52,631 INFO numerapi.utils: target file already exists\n",
      "2022-06-05 18:59:52,633 INFO numerapi.utils: download complete\n",
      "2022-06-05 18:59:52,636 INFO numerapi.base_api: unzipping file...\n"
     ]
    },
    {
     "data": {
      "text/plain": [
       "LinearRegression()"
      ]
     },
     "execution_count": 6,
     "metadata": {},
     "output_type": "execute_result"
    }
   ],
   "source": [
    "with ZipFile(x, 'r') as zip_ref:\n",
    "    zip_ref.extractall('path/to/directory')\n",
    "train_df = pd.read_csv('path/to/directory/numerai_training_data.csv')\n",
    "test_df = pd.read_csv('path/to/directory/numerai_tournament_data.csv')\n",
    "model = LinearRegression()\n",
    "featnames = [f for f in train_df if f.startswith(\"feature\")]\n",
    "X_train = train_df[featnames]\n",
    "y_train = train_df['target']\n",
    "model.fit(X_train, y_train)"
   ]
  },
  {
   "cell_type": "code",
   "execution_count": 7,
   "metadata": {},
   "outputs": [],
   "source": [
    "# score model on tournament data\n",
    "X_test = test_df[featnames]\n",
    "y_test = test_df['target']\n",
    "test_df['prediction'] = model.predict(X_test)\n",
    "predictions = test_df[['id', 'prediction']]"
   ]
  },
  {
   "cell_type": "markdown",
   "metadata": {},
   "source": [
    "# Upload Predictions"
   ]
  },
  {
   "cell_type": "code",
   "execution_count": 1,
   "metadata": {
    "scrolled": true
   },
   "outputs": [],
   "source": [
    "# un-comment the below line to save your submissions back to the project space\n",
    "#project.save_data(\"submission.csv\", predictions.to_csv(index=False), overwrite=True)"
   ]
  },
  {
   "cell_type": "code",
   "execution_count": 10,
   "metadata": {},
   "outputs": [],
   "source": [
    "# use numerapi to upload predictions to the numerai tournament\n",
    "# upload predictions\n",
    "# provide api tokens\n",
    "example_public_id = \"ENTER-YOUR-PUBLIC-ID\"\n",
    "example_secret_key = \"ENTER-YOUR-SECRET-KEY\"\n",
    "napi = nai.NumerAPI(example_public_id, example_secret_key)"
   ]
  },
  {
   "cell_type": "code",
   "execution_count": 11,
   "metadata": {},
   "outputs": [
    {
     "data": {
      "text/plain": [
       "{'dc_ai_': 'bea43b8f-3a2c-41ce-8d58-da477251c012',\n",
       " 'jrdc': '1e2bd437-cc25-4226-832c-93cd3c61525f',\n",
       " 'logreg': 'fdd25464-46bf-4247-b628-913a864cae94',\n",
       " 'xgbr_1': '56a47781-5efc-4beb-b316-115de257d18c'}"
      ]
     },
     "execution_count": 11,
     "metadata": {},
     "output_type": "execute_result"
    }
   ],
   "source": [
    "napi.get_models()"
   ]
  },
  {
   "cell_type": "code",
   "execution_count": 12,
   "metadata": {},
   "outputs": [],
   "source": [
    "model_id = napi.get_models()['xgbr_1']"
   ]
  },
  {
   "cell_type": "code",
   "execution_count": 13,
   "metadata": {},
   "outputs": [
    {
     "name": "stderr",
     "output_type": "stream",
     "text": [
      "2022-06-05 19:01:57,128 INFO numerapi.base_api: uploading predictions...\n"
     ]
    },
    {
     "data": {
      "text/plain": [
       "'fcdfdc42-63c2-42d8-8989-a1a5e21adbaa'"
      ]
     },
     "execution_count": 13,
     "metadata": {},
     "output_type": "execute_result"
    }
   ],
   "source": [
    "napi.upload_predictions(df=predictions, model_id=model_id)"
   ]
  },
  {
   "cell_type": "code",
   "execution_count": 14,
   "metadata": {},
   "outputs": [
    {
     "name": "stdout",
     "output_type": "stream",
     "text": [
      "{'corrWithExamplePreds': None, 'filename': 'predictions-Hj1v70HRwrxa.csv', 'validationCorrPlusMmcSharpe': None, 'validationCorrPlusMmcSharpeDiff': None, 'validationCorrPlusMmcSharpeDiffRating': None, 'validationCorrPlusMmcSharpeRating': None, 'validationCorrelation': None, 'validationCorrelationRating': None, 'validationFeatureExposure': None, 'validationFeatureNeutralMean': None, 'validationFeatureNeutralMeanRating': None, 'validationMaxDrawdown': None, 'validationMaxDrawdownRating': None, 'validationMaxFeatureExposure': None, 'validationMaxFeatureExposureRating': None, 'validationMmcMean': None, 'validationMmcMeanRating': None, 'validationSharpe': None, 'validationSharpeRating': None, 'validationStd': None, 'validationStdRating': None}\n"
     ]
    }
   ],
   "source": [
    "# check submission status\n",
    "print(napi.submission_status(model_id))"
   ]
  },
  {
   "cell_type": "markdown",
   "metadata": {},
   "source": [
    "## After setting up model scoring and prediction uploads, just set up a notebook job from the UI for this to run every Weekend on Tournament Reset"
   ]
  }
 ],
 "metadata": {
  "kernelspec": {
   "display_name": "Python 3 (ipykernel)",
   "language": "python",
   "name": "python3"
  },
  "language_info": {
   "codemirror_mode": {
    "name": "ipython",
    "version": 3
   },
   "file_extension": ".py",
   "mimetype": "text/x-python",
   "name": "python",
   "nbconvert_exporter": "python",
   "pygments_lexer": "ipython3",
   "version": "3.8.10"
  }
 },
 "nbformat": 4,
 "nbformat_minor": 1
}
